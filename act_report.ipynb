{
 "cells": [
  {
   "cell_type": "markdown",
   "metadata": {},
   "source": [
    "# ACT REPORT"
   ]
  },
  {
   "attachments": {},
   "cell_type": "markdown",
   "metadata": {},
   "source": [
    "## INSIGHTS"
   ]
  },
  {
   "attachments": {},
   "cell_type": "markdown",
   "metadata": {},
   "source": [
    "A man/woman with the intention of getting a dog one day or so who might later seek the ratings of WeRateDogs should consider naming his/her pet one of these names; **Stephan, Duddles, Jamesy, Lilly, Aja & Hully**. These names are statistically proven to have more likes and retweets than any other names.\n",
    "\n",
    "\n",
    "![Alt text](11.png)![Alt text](33.png)"
   ]
  },
  {
   "attachments": {},
   "cell_type": "markdown",
   "metadata": {},
   "source": [
    "The dogs within their duggo, puppo or both stages seems to be the ones getting more attention from twitter users. The number of times their tweet was retweeted is more than other dogs in other stages.\n",
    "\n",
    "\n",
    "![Alt text](22.png)"
   ]
  },
  {
   "attachments": {},
   "cell_type": "markdown",
   "metadata": {},
   "source": [
    "There is a positive linear correlation between the number of likes and number of retweets of WeRateDogs tweets. If a dog tweet has more likes, there is high probability that it will be retweeted more times than a dog tweet with lesser likes. And if a dog tweet was retweeted more times then there is high probability that it will garner more likes since it's reaching many people than a dog tweet with lesser retweets.\n",
    "\n",
    "\n",
    "\n",
    "![Alt text](55.png)"
   ]
  },
  {
   "attachments": {},
   "cell_type": "markdown",
   "metadata": {},
   "source": [
    "We have more tweets on WeRateDogs account that are posted/tweeted from iPhones and it can be statistically seen in the pie chart below.\n",
    "\n",
    "\n",
    "![Alt text](44.png)"
   ]
  },
  {
   "attachments": {},
   "cell_type": "markdown",
   "metadata": {},
   "source": [
    "### LIMITATIONS"
   ]
  },
  {
   "attachments": {},
   "cell_type": "markdown",
   "metadata": {},
   "source": [
    "The main limitation that these insights have is that it's only providing information on tweets from WeRateDogs twitter account. It is factoring in other people's ratings."
   ]
  }
 ],
 "metadata": {
  "kernelspec": {
   "display_name": "analyst",
   "language": "python",
   "name": "python3"
  },
  "language_info": {
   "name": "python",
   "version": "3.11.0 | packaged by conda-forge | (main, Jan 14 2023, 12:27:40) [GCC 11.3.0]"
  },
  "orig_nbformat": 4,
  "vscode": {
   "interpreter": {
    "hash": "4255886b1604c2dc32969539741a99a3ba4c66bd4bbc0e5f5b0d15f5cf0bffc2"
   }
  }
 },
 "nbformat": 4,
 "nbformat_minor": 2
}
